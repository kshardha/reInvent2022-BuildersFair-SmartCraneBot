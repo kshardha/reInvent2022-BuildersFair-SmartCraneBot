{
 "cells": [
  {
   "cell_type": "code",
   "execution_count": null,
   "id": "0061e5c7-f004-49da-9943-9b09a389b65d",
   "metadata": {},
   "outputs": [],
   "source": [
    "\n",
    "!ls"
   ]
  },
  {
   "cell_type": "code",
   "execution_count": null,
   "id": "ac2c768e-6343-4409-8e9e-93e6c25079d5",
   "metadata": {},
   "outputs": [],
   "source": [
    "import pandas as pd\n",
    "import numpy as np\n",
    "\n",
    "nbfiles=3311\n",
    "class_ids = list(range(1, nbfiles+1))\n",
    "test_train_split = []\n",
    "size_width = []\n",
    "size_height = []\n",
    "bounding_min = []\n",
    "\n",
    "modulo=5\n",
    "counter=1\n",
    "\n",
    "for c in class_ids:\n",
    "    if(counter % modulo) == 0:\n",
    "        test_train_split.append(0)\n",
    "    else:\n",
    "        test_train_split.append(1)\n",
    "    \n",
    "    bounding_min.append(0)\n",
    "    size_width.append(128)\n",
    "    size_height.append(128)\n",
    "    counter = counter +1\n",
    "\n",
    "    \n",
    "d = {'class_id':class_ids, 'train_flag':test_train_split}\n",
    "df = pd.DataFrame(d)\n",
    "df.to_csv('train_test_split.txt', sep=' ', index=False, header=False)\n",
    "\n",
    "d2 = {'class_id':class_ids, 'w':size_width, 'h': size_height}\n",
    "df2 = pd.DataFrame(d2)\n",
    "df2.to_csv('sizes.txt', sep=' ', index=False, header=False)\n",
    "\n",
    "d3 = {'class_id':class_ids, 'x_min':bounding_min, 'y_min': bounding_min, 'x_max': size_width, 'y_max': size_height}\n",
    "df3 = pd.DataFrame(d3)\n",
    "df3.to_csv('bounding_boxes.txt', sep=' ', index=False, header=False)\n",
    "\n",
    "images_df = pd.read_csv(\"balls.csv\", sep=\",\", )\n",
    "images_df2 = images_df['filepaths'].str.replace('train/', '').str.replace('test/', '')\n",
    "d3 = {'class_id':class_ids, 'file_names':images_df2}\n",
    "df3 = pd.DataFrame(d3)\n",
    "df3.to_csv('images.txt', sep=',', header=False, index=False)\n"
   ]
  },
  {
   "cell_type": "code",
   "execution_count": 91,
   "id": "2ca23356-fadb-4be2-badf-7033ff4e7aba",
   "metadata": {},
   "outputs": [],
   "source": [
    "image_class_labels_df = pd.read_csv(\n",
    "        'class_labels.csv', sep=\",\"\n",
    "    )\n",
    "\n",
    "images = pd.read_csv(\n",
    "        'balls.csv', sep=\",\"\n",
    "    ).rename(columns={'labels': 'class'})\n",
    "\n",
    "\n",
    "full_df = pd.merge(images, image_class_labels_df, on=\"class\")\n",
    "full_df['class_index'] = full_df['class_index'] + 1\n",
    "full_df['image_index'] = class_ids\n",
    "\n",
    "full_df = full_df.drop(columns =['filepaths', 'class', 'data set'])\n",
    "full_df.to_csv('image_class_labels.txt', sep=\" \",index=False, header=False)"
   ]
  },
  {
   "cell_type": "code",
   "execution_count": null,
   "id": "c8ab54cf-e7d7-4eca-a503-f04f0212a6c9",
   "metadata": {},
   "outputs": [],
   "source": [
    "classes_df = pd.read_csv('class_dict.csv', sep=\",\")\n",
    "classes_df"
   ]
  },
  {
   "cell_type": "code",
   "execution_count": null,
   "id": "b36f85ca-f91c-49c7-96da-bfca7de0c98a",
   "metadata": {},
   "outputs": [],
   "source": [
    "image_class_labels_df"
   ]
  },
  {
   "cell_type": "code",
   "execution_count": null,
   "id": "8768a893-60c1-4ee1-846b-34714e69fc84",
   "metadata": {},
   "outputs": [],
   "source": []
  }
 ],
 "metadata": {
  "instance_type": "ml.t3.medium",
  "kernelspec": {
   "display_name": "Python 3 (Data Science)",
   "language": "python",
   "name": "python3__SAGEMAKER_INTERNAL__arn:aws:sagemaker:us-west-2:236514542706:image/datascience-1.0"
  },
  "language_info": {
   "codemirror_mode": {
    "name": "ipython",
    "version": 3
   },
   "file_extension": ".py",
   "mimetype": "text/x-python",
   "name": "python",
   "nbconvert_exporter": "python",
   "pygments_lexer": "ipython3",
   "version": "3.7.10"
  }
 },
 "nbformat": 4,
 "nbformat_minor": 5
}
